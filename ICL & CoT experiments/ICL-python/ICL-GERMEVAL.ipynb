{
 "cells": [
  {
   "cell_type": "markdown",
   "id": "d81bef15",
   "metadata": {},
   "source": [
    "## Example Selection"
   ]
  },
  {
   "cell_type": "code",
   "execution_count": null,
   "id": "5b6aa869",
   "metadata": {},
   "outputs": [
    {
     "name": "stdout",
     "output_type": "stream",
     "text": [
      "Class: non-offensive\n",
      "  @ainyrockstar @GiKi56534206 Alles andere wäre ausländerfeindlich ....\n",
      "  @Karstensailer Zum Ritter geschlagen, weil er viel Geld an Hospitäler gespendet hat - Ablasshandel - vor denen, die am meisten Spenden, sollte man auf der Hut sein -!\n",
      "  Wenn ein Sprachkünstler wie Wolfgang #Thierse zuschlägt und in @infoammorgen von \"Entheimatung\" spricht und \"Konsense\" anmahnt ..... @DLF\n",
      "  @schalburg1 Hatte die Idee auch schon. Nachzulesen in meinem 2015 geschriebenen Buch \"Wutmama\"\n",
      "  Vielleicht sollten wir keine \"NATIONAL\"-Mannschaften mehr in kämpferische Auseinandersetzungen (WM´s,EM´s u.s.w.) schicken,zu PATRIOTISCH !\n",
      "Class: offensive\n",
      "  Alle diejenigen die nicht politisch korrekt sind, sind Verbrecher. So sehen das heutzutage Medien, Politiker, Toleranz Fanatiker sowie bahnhofsklatscher. Verblödetes Deutschland.\n",
      "  @Heinrich_Krug @ReggyVV Der abgetakelte Legastheniker tut alles für ein paar Dollar mehr, selbst sein Volk verraten, wobei ich nicht sicher bin ob es jemals seins war.\n",
      "  Jetzt hört auf mit Euren Sanktionen. Sie bringen nichts und |LBR| schädigen, ja -schädigen- die eigene Wirtschaft, Ihr Nulltipper.\n",
      "  @sternde @bundeswehrInfo Wir hatten keine Probleme in der Truppe. Es gab keine Frauen in der Truppe, und das war gut so.\n",
      "  Altmaier kann jetzt auch noch Finanzminister 😂😂😂 der kennt doch nur 1+1=Merkel, 7x7=Merkel usw. Eben ohne Rückgrat, wie ein Wasserbett 😂😂😂\n"
     ]
    }
   ],
   "source": [
    "import pandas as pd\n",
    "import json\n",
    "\n",
    "label_column = 'Class'\n",
    "\n",
    "\n",
    "train_df = pd.read_csv(f'../../Tasks/germeval/train.csv')\n",
    "train_df['length'] = train_df['text'].apply(lambda x: len(x))\n",
    "train_df[label_column] = train_df[label_column].apply(lambda x: 'offensive' if x else 'non-offensive')\n",
    "\n",
    "context = \"\"\n",
    "for j in train_df[label_column].unique():\n",
    "\tprint(f'Class: {j}')\n",
    "\tsample = train_df[train_df['length'] < 180]\n",
    "\tsample = sample[sample[label_column] == j].sample(5)\n",
    "\tfor index, row in sample.iterrows():\n",
    "\t\tprint(f'  {row[\"text\"]}')\n",
    "\t\tcontext += f'TEXT: <text_icl_begin> {row[\"text\"]} <text_icl_end>\\nLABEL: {j}\\n'\n",
    "\n",
    "#save the context into a json file\n",
    "context = f\"You are an expert in social psychology.\\nDecide whether the **TEXT** is offensive or non-offensive. Reply with the single label on its own line — no extra words.\\n\\n### EXAMPLES\\n{context}### END EXAMPLES\"\n",
    "with open('../icl_promtps/germeval.json', 'w') as f:\n",
    "\tjson.dump([context], f, indent=4)"
   ]
  },
  {
   "cell_type": "markdown",
   "id": "49a3e7cd",
   "metadata": {},
   "source": [
    "### Pompt GPT-4o model and save results for each fold"
   ]
  },
  {
   "cell_type": "code",
   "execution_count": 1,
   "id": "bd3dd1fd",
   "metadata": {},
   "outputs": [],
   "source": [
    "import json \n",
    "\n",
    "with open('../icl_promtps/germeval.json', 'r') as f:\n",
    "\tdata = json.load(f)[0]"
   ]
  },
  {
   "cell_type": "code",
   "execution_count": null,
   "id": "5ce3617c",
   "metadata": {},
   "outputs": [],
   "source": [
    "import pandas as pd\n",
    "import openai, json\n",
    "import pandas as pd\n",
    "from tqdm import tqdm\n",
    "import traceback, pickle\n",
    "\n",
    "import os, sys, dotenv\n",
    "dotenv.load_dotenv()\n",
    "\n",
    "client = openai.OpenAI(api_key = os.getenv(\"OPENAI_API_KEY\"))\n",
    "\n",
    "def get_response( message ): \n",
    "  \n",
    "    response = client.chat.completions.create(\n",
    "      model=\"chatgpt-4o-latest\",\n",
    "      # logprobs = True,\n",
    "      messages=[\n",
    "        {\"role\": \"system\", \"content\": \"You are an expert in social psychology.\"},\n",
    "        {\"role\": \"user\", \"content\": message},\n",
    "      ],\n",
    "       max_tokens = 10,\n",
    "\n",
    "    )\n",
    "    # print(response.choices[0].message.content)\n",
    "    return response.choices[0].message.content\n",
    "\n",
    "\n",
    "def get_inference(message, label_set):\n",
    "    \n",
    "\tpred = \"unknown\"\n",
    "\tfor i in range(6):\n",
    "\t\ttry:\n",
    "\t\t\tz = get_response(message)\n",
    "\t\t\tif z.strip().lower() in label_set:\n",
    "\t\t\t\tpred = z\n",
    "\t\t\t\tbreak\n",
    "\t\texcept:\n",
    "\t\t\tprint(traceback.format_exc())\n",
    "\t\t\tpass\n",
    "\n",
    "\treturn pred\n",
    "\n",
    "df = pd.read_csv(f'../../Tasks/germeval/test.csv')\n",
    "df = df.dropna(subset=['text'])\n",
    "df['text+template'] = df['text'].apply(lambda x: f\"{data}\\n\\nTEXT: <text_begin> {x} <text_end>\\nLABEL:\")\n",
    "\n",
    "for i in range(4):\n",
    "\n",
    "\tfor index, row in tqdm(df.iterrows(), total=len(df)):\n",
    "\t\tresponse = get_inference(row['text+template'], label_set=['offensive', 'non-offensive'])\n",
    "\t\tdf.at[index, 'predicted_label'] = response\n",
    "\t\n",
    "\tdf.to_csv(f'../outputs/o3-mini/germeval/test_{i}.csv', index=False)\n",
    "\t\t"
   ]
  },
  {
   "cell_type": "code",
   "execution_count": 1,
   "id": "83461556",
   "metadata": {},
   "outputs": [
    {
     "name": "stdout",
     "output_type": "stream",
     "text": [
      "Avg 0.8538477881795492\n",
      "Std 0.0016735386435124385\n"
     ]
    }
   ],
   "source": [
    "from sklearn.metrics import f1_score\n",
    "import pandas as pd\n",
    "import numpy as np\n",
    "\n",
    "f1_scores = []\n",
    "for i in range(3):\n",
    "\tdf = pd.read_csv(f'outputs/germeval/test_{i}.csv')\n",
    "\tdf['Class'] = df['Class'].apply(lambda x: 'offensive' if x else 'non-offensive')\n",
    "\tf1_scores += [f1_score(df['Class'], df['predicted_label'], average='macro')]\n",
    "\t\n",
    "print('Avg', np.mean(f1_scores))\n",
    "print('Std', np.std(f1_scores))"
   ]
  }
 ],
 "metadata": {
  "kernelspec": {
   "display_name": "env_torch-lastest (3.10.12)",
   "language": "python",
   "name": "python3"
  },
  "language_info": {
   "codemirror_mode": {
    "name": "ipython",
    "version": 3
   },
   "file_extension": ".py",
   "mimetype": "text/x-python",
   "name": "python",
   "nbconvert_exporter": "python",
   "pygments_lexer": "ipython3",
   "version": "3.10.12"
  }
 },
 "nbformat": 4,
 "nbformat_minor": 5
}
