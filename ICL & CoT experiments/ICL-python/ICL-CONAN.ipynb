{
 "cells": [
  {
   "cell_type": "markdown",
   "id": "d81bef15",
   "metadata": {},
   "source": [
    "## Example Selection"
   ]
  },
  {
   "cell_type": "code",
   "execution_count": null,
   "id": "5b88746d",
   "metadata": {},
   "outputs": [
    {
     "name": "stdout",
     "output_type": "stream",
     "text": [
      "Class: facts\n",
      "  So all the Muslim doctors, business owners, servicemen/women, taxi drivers, chefs, etc. That I've encountered must be part of that 1% then?\n",
      "  No religion encourages violence towards others. I do not think it is a muslim issue at all.\n",
      "  The quran teaches justice and that criminals should be treated justly and be given the chance to reform.\n",
      "Class: support\n",
      "  In the swimming pool there are baths only for Muslims, I cannot enter. If I, a white men, asked for something like this nobody would allow me. Muslims can do anything they want.\n",
      "  If a girl has muslim parents, she is at risk of FGM!\n",
      "  Our country wants to shut up those who speak against islam, but it isn't right, they are the only ones who expose themselves.\n",
      "Class: denouncing\n",
      "  How can you say such hateful things about an entire faith?\n",
      "  An entire faith of 1.6 billion people is not a cancer.\n",
      "  That is quite a big generalisation, and obviously a false and discriminatory one too.\n",
      "Class: hypocrisy\n",
      "  When you say 'cult' you imply a minor religious group, but I isn't Islam one of the worlds major religions.\n",
      "  Then the violent protesters in support of tommy were muslims?\n",
      "  So their faith and belief in the teachings of God guides them to a virtuous path of public service. What exactly are you complaining about?\n",
      "Class: unrelated\n",
      "  Listen to your spouse. Encourage your spouse to let out emotion. Allow your spouse to be silent. Let your spouse grieve for as long as needed.\n",
      "  Open the Facebook app. Go to your friend’s profile. Tap the ⁝ button. Tap See Friendship from the menu. Scroll down and tap on See All Photos.\n",
      "  Expect some discomfort early on. Learn how to put your brace on by yourself. Take good care of your skin under the brace. Be prepared to modify some of your regular movements.\n",
      "Class: humor\n",
      "  You start digging if that keeps you happy.\n",
      "  You seem to have a new superpower? Ascertaining ethnicity and faith based on a person's last name?\n",
      "  As is paranoia.\n",
      "Class: question\n",
      "  Aren't places of worship about far more than just prayers?\n",
      "  But it isn't, is it?\n",
      "  What exactly are you suggesting?\n"
     ]
    }
   ],
   "source": [
    "import pandas as pd\n",
    "import json\n",
    "\n",
    "label_column = 'Class'\n",
    "\n",
    "\n",
    "train_df = pd.read_csv(f'../../Tasks/conan/train.csv')\n",
    "train_df['length'] = train_df['text'].apply(lambda x: len(x))\n",
    "\n",
    "context = \"\"\n",
    "for j in train_df[label_column].unique():\n",
    "\tprint(f'Class: {j}')\n",
    "\tsample = train_df[train_df['length'] < 180]\n",
    "\tsample = sample[sample[label_column] == j].sample(3)\n",
    "\tfor index, row in sample.iterrows():\n",
    "\t\tprint(f'  {row[\"text\"]}')\n",
    "\t\tcontext += f'<text_icl_begin> CONTEXT: {row[\"context\"]}\\nCOMMENT: {row[\"text\"]} <text_icl_end>\\nLABEL: {j}\\n'\n",
    "\n",
    "#save the context into a json file\n",
    "context = f\"You are an expert in social psychology.\\nAlways read the CONTEXT before the COMMENT and decide one of: facts · support · denouncing · hypocrisy · unrelated · humor · question. Reply with the single label on its own line — no extra words.\\n\\n### EXAMPLES\\n{context}### END EXAMPLES\"\n",
    "with open('../icl_promtps/conan.json', 'w') as f:\n",
    "\tjson.dump([context], f, indent=4)"
   ]
  },
  {
   "cell_type": "markdown",
   "id": "49a3e7cd",
   "metadata": {},
   "source": [
    "### Pompt GPT-4o model and save results for each fold"
   ]
  },
  {
   "cell_type": "code",
   "execution_count": 1,
   "id": "bd3dd1fd",
   "metadata": {},
   "outputs": [],
   "source": [
    "import json \n",
    "\n",
    "with open('../icl_promtps/conan.json', 'r') as f:\n",
    "\tdata = json.load(f)[0]"
   ]
  },
  {
   "cell_type": "code",
   "execution_count": null,
   "id": "5ce3617c",
   "metadata": {},
   "outputs": [],
   "source": [
    "\n",
    "import pandas as pd\n",
    "import openai, os\n",
    "import pandas as pd\n",
    "from tqdm import tqdm\n",
    "import traceback, pickle\n",
    "\n",
    "import sys, dotenv\n",
    "sys.path.append('../..')\n",
    "\n",
    "dotenv.load_dotenv()\n",
    "client = openai.OpenAI(api_key = os.getenv(\"OPENAI_API_KEY\"))\n",
    "\n",
    "def get_response( message ): \n",
    "  \n",
    "    response = client.chat.completions.create(\n",
    "      model=\"chatgpt-4o-latest\",\n",
    "      # logprobs = True,\n",
    "      messages=[\n",
    "        {\"role\": \"system\", \"content\": \"You are an expert in social psychology.\"},\n",
    "        {\"role\": \"user\", \"content\": message},\n",
    "      ],\n",
    "       max_tokens = 10,\n",
    "\n",
    "    )\n",
    "    # print(response.choices[0].message.content)\n",
    "    return response.choices[0].message.content\n",
    "\n",
    "\n",
    "def get_inference(message, label_set):\n",
    "    \n",
    "\tpred = \"unknown\"\n",
    "\tfor i in range(6):\n",
    "\t\ttry:\n",
    "\t\t\tz = get_response(message)\n",
    "\t\t\tif z.strip().lower() in label_set:\n",
    "\t\t\t\tpred = z\n",
    "\t\t\t\tbreak\n",
    "\t\texcept:\n",
    "\t\t\tprint(traceback.format_exc())\n",
    "\t\t\tpass\n",
    "\n",
    "\treturn pred\n",
    "\n",
    "df = pd.read_csv(f'../../Tasks/conan/test.csv')\n",
    "df = df.dropna(subset=['text'])\n",
    "label_column = 'Class'\n",
    "\n",
    "\n",
    "for i in range(4):\n",
    "\n",
    "\tfor index, row in tqdm(df.iterrows(), total=len(df)):\n",
    "\n",
    "\t\tprompt = f\"{data}\\n\\nCONTEXT: {row['context']}\\nTEXT:{row['text']}\\nLABEL:\"\n",
    "\t\t\n",
    "\t\tresponse = get_inference(prompt, label_set=list(df[label_column].unique()))\n",
    "\t\tdf.at[index, 'predicted_label'] = response\n",
    "\n",
    "\tdf.to_csv(f'outputs/conan/test_{i}.csv', index=False)"
   ]
  },
  {
   "cell_type": "code",
   "execution_count": 1,
   "id": "3034008d",
   "metadata": {},
   "outputs": [
    {
     "name": "stdout",
     "output_type": "stream",
     "text": [
      "Avg 0.762594667811815\n",
      "Std 0.006665365445820801\n"
     ]
    }
   ],
   "source": [
    "from sklearn.metrics import f1_score\n",
    "import pandas as pd\n",
    "import numpy as np\n",
    "\n",
    "f1_scores = []\n",
    "for i in range(4):\n",
    "\tdf = pd.read_csv(f'outputs/conan/test_{i}.csv')\n",
    "\tf1_scores += [f1_score(df['Class'], df['predicted_label'], average='macro')]\n",
    "\t\n",
    "print('Avg', np.mean(f1_scores))\n",
    "print('Std', np.std(f1_scores))"
   ]
  }
 ],
 "metadata": {
  "kernelspec": {
   "display_name": "env_torch-lastest (3.10.12)",
   "language": "python",
   "name": "python3"
  },
  "language_info": {
   "codemirror_mode": {
    "name": "ipython",
    "version": 3
   },
   "file_extension": ".py",
   "mimetype": "text/x-python",
   "name": "python",
   "nbconvert_exporter": "python",
   "pygments_lexer": "ipython3",
   "version": "3.10.12"
  }
 },
 "nbformat": 4,
 "nbformat_minor": 5
}
